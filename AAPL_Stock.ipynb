{
  "cells": [
    {
      "cell_type": "markdown",
      "metadata": {
        "id": "view-in-github",
        "colab_type": "text"
      },
      "source": [
        "<a href=\"https://colab.research.google.com/github/YashVarshney24/COG_Practice/blob/main/AAPL_Stock.ipynb\" target=\"_parent\"><img src=\"https://colab.research.google.com/assets/colab-badge.svg\" alt=\"Open In Colab\"/></a>"
      ]
    },
    {
      "cell_type": "code",
      "execution_count": 1,
      "metadata": {
        "id": "hCejAgzlxTuP"
      },
      "outputs": [],
      "source": [
        "import pandas as pd\n",
        "import numpy as np"
      ]
    },
    {
      "cell_type": "code",
      "execution_count": 2,
      "metadata": {
        "id": "AFsmFQimx2QI"
      },
      "outputs": [],
      "source": [
        "data = pd.read_csv('AAPL_20_years.csv')"
      ]
    },
    {
      "cell_type": "code",
      "execution_count": 3,
      "metadata": {
        "colab": {
          "base_uri": "https://localhost:8080/",
          "height": 206
        },
        "id": "M8NYg72wx_fO",
        "outputId": "eebb16c0-5aff-4347-f710-6e241943b0cc"
      },
      "outputs": [
        {
          "output_type": "execute_result",
          "data": {
            "text/plain": [
              "       Date      Open      High       Low     Close  Adj Close     Volume\n",
              "0  1/2/2002  0.393750  0.416071  0.392143  0.416071   0.355748  529496800\n",
              "1  1/3/2002  0.410714  0.424107  0.406607  0.421071   0.360023  612007200\n",
              "2  1/4/2002  0.416786  0.427679  0.410536  0.423036   0.361703  409976000\n",
              "3  1/7/2002  0.423571  0.428571  0.406250  0.408929   0.349642  444584000\n",
              "4  1/8/2002  0.406250  0.411607  0.401071  0.403750   0.345214  450038400"
            ],
            "text/html": [
              "\n",
              "  <div id=\"df-9ba99f66-c53a-406b-9c17-8dfffaa83403\">\n",
              "    <div class=\"colab-df-container\">\n",
              "      <div>\n",
              "<style scoped>\n",
              "    .dataframe tbody tr th:only-of-type {\n",
              "        vertical-align: middle;\n",
              "    }\n",
              "\n",
              "    .dataframe tbody tr th {\n",
              "        vertical-align: top;\n",
              "    }\n",
              "\n",
              "    .dataframe thead th {\n",
              "        text-align: right;\n",
              "    }\n",
              "</style>\n",
              "<table border=\"1\" class=\"dataframe\">\n",
              "  <thead>\n",
              "    <tr style=\"text-align: right;\">\n",
              "      <th></th>\n",
              "      <th>Date</th>\n",
              "      <th>Open</th>\n",
              "      <th>High</th>\n",
              "      <th>Low</th>\n",
              "      <th>Close</th>\n",
              "      <th>Adj Close</th>\n",
              "      <th>Volume</th>\n",
              "    </tr>\n",
              "  </thead>\n",
              "  <tbody>\n",
              "    <tr>\n",
              "      <th>0</th>\n",
              "      <td>1/2/2002</td>\n",
              "      <td>0.393750</td>\n",
              "      <td>0.416071</td>\n",
              "      <td>0.392143</td>\n",
              "      <td>0.416071</td>\n",
              "      <td>0.355748</td>\n",
              "      <td>529496800</td>\n",
              "    </tr>\n",
              "    <tr>\n",
              "      <th>1</th>\n",
              "      <td>1/3/2002</td>\n",
              "      <td>0.410714</td>\n",
              "      <td>0.424107</td>\n",
              "      <td>0.406607</td>\n",
              "      <td>0.421071</td>\n",
              "      <td>0.360023</td>\n",
              "      <td>612007200</td>\n",
              "    </tr>\n",
              "    <tr>\n",
              "      <th>2</th>\n",
              "      <td>1/4/2002</td>\n",
              "      <td>0.416786</td>\n",
              "      <td>0.427679</td>\n",
              "      <td>0.410536</td>\n",
              "      <td>0.423036</td>\n",
              "      <td>0.361703</td>\n",
              "      <td>409976000</td>\n",
              "    </tr>\n",
              "    <tr>\n",
              "      <th>3</th>\n",
              "      <td>1/7/2002</td>\n",
              "      <td>0.423571</td>\n",
              "      <td>0.428571</td>\n",
              "      <td>0.406250</td>\n",
              "      <td>0.408929</td>\n",
              "      <td>0.349642</td>\n",
              "      <td>444584000</td>\n",
              "    </tr>\n",
              "    <tr>\n",
              "      <th>4</th>\n",
              "      <td>1/8/2002</td>\n",
              "      <td>0.406250</td>\n",
              "      <td>0.411607</td>\n",
              "      <td>0.401071</td>\n",
              "      <td>0.403750</td>\n",
              "      <td>0.345214</td>\n",
              "      <td>450038400</td>\n",
              "    </tr>\n",
              "  </tbody>\n",
              "</table>\n",
              "</div>\n",
              "      <button class=\"colab-df-convert\" onclick=\"convertToInteractive('df-9ba99f66-c53a-406b-9c17-8dfffaa83403')\"\n",
              "              title=\"Convert this dataframe to an interactive table.\"\n",
              "              style=\"display:none;\">\n",
              "        \n",
              "  <svg xmlns=\"http://www.w3.org/2000/svg\" height=\"24px\"viewBox=\"0 0 24 24\"\n",
              "       width=\"24px\">\n",
              "    <path d=\"M0 0h24v24H0V0z\" fill=\"none\"/>\n",
              "    <path d=\"M18.56 5.44l.94 2.06.94-2.06 2.06-.94-2.06-.94-.94-2.06-.94 2.06-2.06.94zm-11 1L8.5 8.5l.94-2.06 2.06-.94-2.06-.94L8.5 2.5l-.94 2.06-2.06.94zm10 10l.94 2.06.94-2.06 2.06-.94-2.06-.94-.94-2.06-.94 2.06-2.06.94z\"/><path d=\"M17.41 7.96l-1.37-1.37c-.4-.4-.92-.59-1.43-.59-.52 0-1.04.2-1.43.59L10.3 9.45l-7.72 7.72c-.78.78-.78 2.05 0 2.83L4 21.41c.39.39.9.59 1.41.59.51 0 1.02-.2 1.41-.59l7.78-7.78 2.81-2.81c.8-.78.8-2.07 0-2.86zM5.41 20L4 18.59l7.72-7.72 1.47 1.35L5.41 20z\"/>\n",
              "  </svg>\n",
              "      </button>\n",
              "      \n",
              "  <style>\n",
              "    .colab-df-container {\n",
              "      display:flex;\n",
              "      flex-wrap:wrap;\n",
              "      gap: 12px;\n",
              "    }\n",
              "\n",
              "    .colab-df-convert {\n",
              "      background-color: #E8F0FE;\n",
              "      border: none;\n",
              "      border-radius: 50%;\n",
              "      cursor: pointer;\n",
              "      display: none;\n",
              "      fill: #1967D2;\n",
              "      height: 32px;\n",
              "      padding: 0 0 0 0;\n",
              "      width: 32px;\n",
              "    }\n",
              "\n",
              "    .colab-df-convert:hover {\n",
              "      background-color: #E2EBFA;\n",
              "      box-shadow: 0px 1px 2px rgba(60, 64, 67, 0.3), 0px 1px 3px 1px rgba(60, 64, 67, 0.15);\n",
              "      fill: #174EA6;\n",
              "    }\n",
              "\n",
              "    [theme=dark] .colab-df-convert {\n",
              "      background-color: #3B4455;\n",
              "      fill: #D2E3FC;\n",
              "    }\n",
              "\n",
              "    [theme=dark] .colab-df-convert:hover {\n",
              "      background-color: #434B5C;\n",
              "      box-shadow: 0px 1px 3px 1px rgba(0, 0, 0, 0.15);\n",
              "      filter: drop-shadow(0px 1px 2px rgba(0, 0, 0, 0.3));\n",
              "      fill: #FFFFFF;\n",
              "    }\n",
              "  </style>\n",
              "\n",
              "      <script>\n",
              "        const buttonEl =\n",
              "          document.querySelector('#df-9ba99f66-c53a-406b-9c17-8dfffaa83403 button.colab-df-convert');\n",
              "        buttonEl.style.display =\n",
              "          google.colab.kernel.accessAllowed ? 'block' : 'none';\n",
              "\n",
              "        async function convertToInteractive(key) {\n",
              "          const element = document.querySelector('#df-9ba99f66-c53a-406b-9c17-8dfffaa83403');\n",
              "          const dataTable =\n",
              "            await google.colab.kernel.invokeFunction('convertToInteractive',\n",
              "                                                     [key], {});\n",
              "          if (!dataTable) return;\n",
              "\n",
              "          const docLinkHtml = 'Like what you see? Visit the ' +\n",
              "            '<a target=\"_blank\" href=https://colab.research.google.com/notebooks/data_table.ipynb>data table notebook</a>'\n",
              "            + ' to learn more about interactive tables.';\n",
              "          element.innerHTML = '';\n",
              "          dataTable['output_type'] = 'display_data';\n",
              "          await google.colab.output.renderOutput(dataTable, element);\n",
              "          const docLink = document.createElement('div');\n",
              "          docLink.innerHTML = docLinkHtml;\n",
              "          element.appendChild(docLink);\n",
              "        }\n",
              "      </script>\n",
              "    </div>\n",
              "  </div>\n",
              "  "
            ]
          },
          "metadata": {},
          "execution_count": 3
        }
      ],
      "source": [
        "data.head()"
      ]
    },
    {
      "cell_type": "code",
      "execution_count": 4,
      "metadata": {
        "colab": {
          "base_uri": "https://localhost:8080/",
          "height": 206
        },
        "id": "ho612CvpyDO7",
        "outputId": "bdcb46ee-c9a4-49df-e386-852f351d8b79"
      },
      "outputs": [
        {
          "output_type": "execute_result",
          "data": {
            "text/plain": [
              "           Date        Open        High         Low       Close   Adj Close  \\\n",
              "5134  5/24/2022  140.809998  141.970001  137.330002  140.360001  140.360001   \n",
              "5135  5/25/2022  138.429993  141.789993  138.339996  140.520004  140.520004   \n",
              "5136  5/26/2022  137.389999  144.339996  137.139999  143.779999  143.779999   \n",
              "5137  5/27/2022  145.389999  149.679993  145.259995  149.639999  149.639999   \n",
              "5138  5/31/2022  149.070007  150.660004  146.839996  148.839996  148.839996   \n",
              "\n",
              "         Volume  \n",
              "5134  104132700  \n",
              "5135   92482700  \n",
              "5136   90601500  \n",
              "5137   90978500  \n",
              "5138  103718400  "
            ],
            "text/html": [
              "\n",
              "  <div id=\"df-05fca3b5-5440-435d-a8cd-66bf50eae815\">\n",
              "    <div class=\"colab-df-container\">\n",
              "      <div>\n",
              "<style scoped>\n",
              "    .dataframe tbody tr th:only-of-type {\n",
              "        vertical-align: middle;\n",
              "    }\n",
              "\n",
              "    .dataframe tbody tr th {\n",
              "        vertical-align: top;\n",
              "    }\n",
              "\n",
              "    .dataframe thead th {\n",
              "        text-align: right;\n",
              "    }\n",
              "</style>\n",
              "<table border=\"1\" class=\"dataframe\">\n",
              "  <thead>\n",
              "    <tr style=\"text-align: right;\">\n",
              "      <th></th>\n",
              "      <th>Date</th>\n",
              "      <th>Open</th>\n",
              "      <th>High</th>\n",
              "      <th>Low</th>\n",
              "      <th>Close</th>\n",
              "      <th>Adj Close</th>\n",
              "      <th>Volume</th>\n",
              "    </tr>\n",
              "  </thead>\n",
              "  <tbody>\n",
              "    <tr>\n",
              "      <th>5134</th>\n",
              "      <td>5/24/2022</td>\n",
              "      <td>140.809998</td>\n",
              "      <td>141.970001</td>\n",
              "      <td>137.330002</td>\n",
              "      <td>140.360001</td>\n",
              "      <td>140.360001</td>\n",
              "      <td>104132700</td>\n",
              "    </tr>\n",
              "    <tr>\n",
              "      <th>5135</th>\n",
              "      <td>5/25/2022</td>\n",
              "      <td>138.429993</td>\n",
              "      <td>141.789993</td>\n",
              "      <td>138.339996</td>\n",
              "      <td>140.520004</td>\n",
              "      <td>140.520004</td>\n",
              "      <td>92482700</td>\n",
              "    </tr>\n",
              "    <tr>\n",
              "      <th>5136</th>\n",
              "      <td>5/26/2022</td>\n",
              "      <td>137.389999</td>\n",
              "      <td>144.339996</td>\n",
              "      <td>137.139999</td>\n",
              "      <td>143.779999</td>\n",
              "      <td>143.779999</td>\n",
              "      <td>90601500</td>\n",
              "    </tr>\n",
              "    <tr>\n",
              "      <th>5137</th>\n",
              "      <td>5/27/2022</td>\n",
              "      <td>145.389999</td>\n",
              "      <td>149.679993</td>\n",
              "      <td>145.259995</td>\n",
              "      <td>149.639999</td>\n",
              "      <td>149.639999</td>\n",
              "      <td>90978500</td>\n",
              "    </tr>\n",
              "    <tr>\n",
              "      <th>5138</th>\n",
              "      <td>5/31/2022</td>\n",
              "      <td>149.070007</td>\n",
              "      <td>150.660004</td>\n",
              "      <td>146.839996</td>\n",
              "      <td>148.839996</td>\n",
              "      <td>148.839996</td>\n",
              "      <td>103718400</td>\n",
              "    </tr>\n",
              "  </tbody>\n",
              "</table>\n",
              "</div>\n",
              "      <button class=\"colab-df-convert\" onclick=\"convertToInteractive('df-05fca3b5-5440-435d-a8cd-66bf50eae815')\"\n",
              "              title=\"Convert this dataframe to an interactive table.\"\n",
              "              style=\"display:none;\">\n",
              "        \n",
              "  <svg xmlns=\"http://www.w3.org/2000/svg\" height=\"24px\"viewBox=\"0 0 24 24\"\n",
              "       width=\"24px\">\n",
              "    <path d=\"M0 0h24v24H0V0z\" fill=\"none\"/>\n",
              "    <path d=\"M18.56 5.44l.94 2.06.94-2.06 2.06-.94-2.06-.94-.94-2.06-.94 2.06-2.06.94zm-11 1L8.5 8.5l.94-2.06 2.06-.94-2.06-.94L8.5 2.5l-.94 2.06-2.06.94zm10 10l.94 2.06.94-2.06 2.06-.94-2.06-.94-.94-2.06-.94 2.06-2.06.94z\"/><path d=\"M17.41 7.96l-1.37-1.37c-.4-.4-.92-.59-1.43-.59-.52 0-1.04.2-1.43.59L10.3 9.45l-7.72 7.72c-.78.78-.78 2.05 0 2.83L4 21.41c.39.39.9.59 1.41.59.51 0 1.02-.2 1.41-.59l7.78-7.78 2.81-2.81c.8-.78.8-2.07 0-2.86zM5.41 20L4 18.59l7.72-7.72 1.47 1.35L5.41 20z\"/>\n",
              "  </svg>\n",
              "      </button>\n",
              "      \n",
              "  <style>\n",
              "    .colab-df-container {\n",
              "      display:flex;\n",
              "      flex-wrap:wrap;\n",
              "      gap: 12px;\n",
              "    }\n",
              "\n",
              "    .colab-df-convert {\n",
              "      background-color: #E8F0FE;\n",
              "      border: none;\n",
              "      border-radius: 50%;\n",
              "      cursor: pointer;\n",
              "      display: none;\n",
              "      fill: #1967D2;\n",
              "      height: 32px;\n",
              "      padding: 0 0 0 0;\n",
              "      width: 32px;\n",
              "    }\n",
              "\n",
              "    .colab-df-convert:hover {\n",
              "      background-color: #E2EBFA;\n",
              "      box-shadow: 0px 1px 2px rgba(60, 64, 67, 0.3), 0px 1px 3px 1px rgba(60, 64, 67, 0.15);\n",
              "      fill: #174EA6;\n",
              "    }\n",
              "\n",
              "    [theme=dark] .colab-df-convert {\n",
              "      background-color: #3B4455;\n",
              "      fill: #D2E3FC;\n",
              "    }\n",
              "\n",
              "    [theme=dark] .colab-df-convert:hover {\n",
              "      background-color: #434B5C;\n",
              "      box-shadow: 0px 1px 3px 1px rgba(0, 0, 0, 0.15);\n",
              "      filter: drop-shadow(0px 1px 2px rgba(0, 0, 0, 0.3));\n",
              "      fill: #FFFFFF;\n",
              "    }\n",
              "  </style>\n",
              "\n",
              "      <script>\n",
              "        const buttonEl =\n",
              "          document.querySelector('#df-05fca3b5-5440-435d-a8cd-66bf50eae815 button.colab-df-convert');\n",
              "        buttonEl.style.display =\n",
              "          google.colab.kernel.accessAllowed ? 'block' : 'none';\n",
              "\n",
              "        async function convertToInteractive(key) {\n",
              "          const element = document.querySelector('#df-05fca3b5-5440-435d-a8cd-66bf50eae815');\n",
              "          const dataTable =\n",
              "            await google.colab.kernel.invokeFunction('convertToInteractive',\n",
              "                                                     [key], {});\n",
              "          if (!dataTable) return;\n",
              "\n",
              "          const docLinkHtml = 'Like what you see? Visit the ' +\n",
              "            '<a target=\"_blank\" href=https://colab.research.google.com/notebooks/data_table.ipynb>data table notebook</a>'\n",
              "            + ' to learn more about interactive tables.';\n",
              "          element.innerHTML = '';\n",
              "          dataTable['output_type'] = 'display_data';\n",
              "          await google.colab.output.renderOutput(dataTable, element);\n",
              "          const docLink = document.createElement('div');\n",
              "          docLink.innerHTML = docLinkHtml;\n",
              "          element.appendChild(docLink);\n",
              "        }\n",
              "      </script>\n",
              "    </div>\n",
              "  </div>\n",
              "  "
            ]
          },
          "metadata": {},
          "execution_count": 4
        }
      ],
      "source": [
        "data.tail()"
      ]
    },
    {
      "cell_type": "code",
      "execution_count": 5,
      "metadata": {
        "id": "7IWv5Gs1yKnl"
      },
      "outputs": [],
      "source": [
        "df = data.reset_index()['Close']"
      ]
    },
    {
      "cell_type": "code",
      "execution_count": 6,
      "metadata": {
        "colab": {
          "base_uri": "https://localhost:8080/"
        },
        "id": "Txy5Qg70yTE9",
        "outputId": "f0a5d3d3-111e-4b20-8d32-6025625a8259"
      },
      "outputs": [
        {
          "output_type": "execute_result",
          "data": {
            "text/plain": [
              "(5139,)"
            ]
          },
          "metadata": {},
          "execution_count": 6
        }
      ],
      "source": [
        "df.shape"
      ]
    },
    {
      "cell_type": "code",
      "execution_count": 7,
      "metadata": {
        "id": "sFtXG3k7yYuc"
      },
      "outputs": [],
      "source": [
        "import matplotlib.pyplot as plt"
      ]
    },
    {
      "cell_type": "code",
      "execution_count": 8,
      "metadata": {
        "colab": {
          "base_uri": "https://localhost:8080/",
          "height": 283
        },
        "id": "Npm_CcQVyd4P",
        "outputId": "e5522ba3-b895-4aeb-baaa-11ecf536bf4e"
      },
      "outputs": [
        {
          "output_type": "execute_result",
          "data": {
            "text/plain": [
              "[<matplotlib.lines.Line2D at 0x7fd578549750>]"
            ]
          },
          "metadata": {},
          "execution_count": 8
        },
        {
          "output_type": "display_data",
          "data": {
            "text/plain": [
              "<Figure size 432x288 with 1 Axes>"
            ],
            "image/png": "[encoded data removed]"
          },
          "metadata": {
            "needs_background": "light"
          }
        }
      ],
      "source": [
        "plt.plot(df)"
      ]
    },
    {
      "cell_type": "code",
      "execution_count": 9,
      "metadata": {
        "id": "j7pI4D-KyfeQ"
      },
      "outputs": [],
      "source": [
        "from sklearn.preprocessing import MinMaxScaler\n",
        "scaler = MinMaxScaler(feature_range=(0,1))\n",
        "df = scaler.fit_transform(np.array(df).reshape(-1,1))"
      ]
    },
    {
      "cell_type": "code",
      "execution_count": 10,
      "metadata": {
        "colab": {
          "base_uri": "https://localhost:8080/"
        },
        "id": "TCo6juA_y7W3",
        "outputId": "aa1c6492-90e1-4618-986b-2dd7298befbd"
      },
      "outputs": [
        {
          "output_type": "execute_result",
          "data": {
            "text/plain": [
              "(5139, 1)"
            ]
          },
          "metadata": {},
          "execution_count": 10
        }
      ],
      "source": [
        "df.shape"
      ]
    },
    {
      "cell_type": "code",
      "execution_count": 11,
      "metadata": {
        "colab": {
          "base_uri": "https://localhost:8080/"
        },
        "id": "DeA5oDK8y-xI",
        "outputId": "c99a2378-fc06-4981-9448-ca9551a61e32"
      },
      "outputs": [
        {
          "output_type": "execute_result",
          "data": {
            "text/plain": [
              "array([[0.00100005],\n",
              "       [0.00102756],\n",
              "       [0.00103837],\n",
              "       ...,\n",
              "       [0.78968589],\n",
              "       [0.82192342],\n",
              "       [0.81752238]])"
            ]
          },
          "metadata": {},
          "execution_count": 11
        }
      ],
      "source": [
        "df"
      ]
    },
    {
      "cell_type": "code",
      "execution_count": 12,
      "metadata": {
        "id": "dwjoX4p-zBt3"
      },
      "outputs": [],
      "source": [
        "training_size = int(len(df)*0.65)\n",
        "test_size = int(len(df)) - training_size"
      ]
    },
    {
      "cell_type": "code",
      "execution_count": 13,
      "metadata": {
        "colab": {
          "base_uri": "https://localhost:8080/"
        },
        "id": "AH0dqstN0W01",
        "outputId": "effc443a-48af-496b-8f3d-3ffdfeca43ad"
      },
      "outputs": [
        {
          "output_type": "execute_result",
          "data": {
            "text/plain": [
              "(3340, 1799)"
            ]
          },
          "metadata": {},
          "execution_count": 13
        }
      ],
      "source": [
        "training_size,test_size"
      ]
    },
    {
      "cell_type": "code",
      "execution_count": 14,
      "metadata": {
        "id": "X1O5hWjb0ZWY"
      },
      "outputs": [],
      "source": [
        "train_data,test_data = df[0:training_size,:],df[training_size:len(df),:1]"
      ]
    },
    {
      "cell_type": "code",
      "execution_count": 15,
      "metadata": {
        "colab": {
          "base_uri": "https://localhost:8080/"
        },
        "id": "x6l5AVXK0p4B",
        "outputId": "009fc276-f9c6-45db-e9f4-bcd0260c752d"
      },
      "outputs": [
        {
          "output_type": "execute_result",
          "data": {
            "text/plain": [
              "array([[0.00100005],\n",
              "       [0.00102756],\n",
              "       [0.00103837],\n",
              "       ...,\n",
              "       [0.17201537],\n",
              "       [0.17145148],\n",
              "       [0.17277178]])"
            ]
          },
          "metadata": {},
          "execution_count": 15
        }
      ],
      "source": [
        "train_data"
      ]
    },
    {
      "cell_type": "code",
      "execution_count": 16,
      "metadata": {
        "id": "40CIGT7r0s3P"
      },
      "outputs": [],
      "source": [
        "def create_dataset(dataset, time_step=1):\n",
        "  dataX,dataY = [],[]\n",
        "  for i in range(len(dataset)-time_step-1):\n",
        "    a=dataset[i:(i+time_step),0]\n",
        "    dataX.append(a)\n",
        "    dataY.append(dataset[i+time_step,0])\n",
        "  return np.array(dataX), np.array(dataY)"
      ]
    },
    {
      "cell_type": "code",
      "execution_count": 17,
      "metadata": {
        "id": "ZJcYf3Dq2O4F"
      },
      "outputs": [],
      "source": [
        "time_step = 100\n",
        "X_train, y_train = create_dataset(train_data, time_step)\n",
        "X_test, y_test = create_dataset(test_data, time_step)"
      ]
    },
    {
      "cell_type": "code",
      "execution_count": 18,
      "metadata": {
        "colab": {
          "base_uri": "https://localhost:8080/"
        },
        "id": "aSy9P0du2eCg",
        "outputId": "fc983d06-f21f-4928-d63a-d0daad3b061e"
      },
      "outputs": [
        {
          "output_type": "stream",
          "name": "stdout",
          "text": [
            "[[0.00100005 0.00102756 0.00103837 ... 0.00110026 0.00118474 0.00108356]\n",
            " [0.00102756 0.00103837 0.00096076 ... 0.00118474 0.00108356 0.00106685]\n",
            " [0.00103837 0.00096076 0.00093227 ... 0.00108356 0.00106685 0.00106685]\n",
            " ...\n",
            " [0.1486349  0.14838734 0.14958386 ... 0.16984235 0.16959479 0.17106639]\n",
            " [0.14838734 0.14958386 0.15171562 ... 0.16959479 0.17106639 0.17385829]\n",
            " [0.14958386 0.15171562 0.15387487 ... 0.17106639 0.17385829 0.17201537]]\n"
          ]
        }
      ],
      "source": [
        "print(X_train)"
      ]
    },
    {
      "cell_type": "code",
      "execution_count": 19,
      "metadata": {
        "id": "CChM68-d2jXE"
      },
      "outputs": [],
      "source": [
        "X_train = X_train.reshape(X_train.shape[0], X_train.shape[1],1)\n",
        "X_test = X_test.reshape(X_test.shape[0], X_test.shape[1],1)"
      ]
    },
    {
      "cell_type": "code",
      "execution_count": 20,
      "metadata": {
        "id": "rP2T_lou4D97"
      },
      "outputs": [],
      "source": [
        "from keras.models import Sequential\n",
        "from keras.layers import Dense\n",
        "from keras.layers import LSTM"
      ]
    },
    {
      "cell_type": "code",
      "execution_count": 21,
      "metadata": {
        "id": "xskZTpiI4jXk"
      },
      "outputs": [],
      "source": [
        "model = Sequential()\n",
        "model.add(LSTM(50, return_sequences=True, input_shape = (100,1)))\n",
        "model.add(LSTM(60, return_sequences=True))\n",
        "model.add(LSTM(75, return_sequences=True))\n",
        "model.add(LSTM(50))\n",
        "model.add(Dense(1)) \n",
        " "
      ]
    },
    {
      "cell_type": "code",
      "execution_count": 22,
      "metadata": {
        "colab": {
          "base_uri": "https://localhost:8080/"
        },
        "id": "bvm25LwG4-9g",
        "outputId": "c5cd1964-03a3-4018-a272-83c90264bac2"
      },
      "outputs": [
        {
          "output_type": "stream",
          "name": "stdout",
          "text": [
            "Model: \"sequential\"\n",
            "_________________________________________________________________\n",
            " Layer (type)                Output Shape              Param #   \n",
            "=================================================================\n",
            " lstm (LSTM)                 (None, 100, 50)           10400     \n",
            "                                                                 \n",
            " lstm_1 (LSTM)               (None, 100, 60)           26640     \n",
            "                                                                 \n",
            " lstm_2 (LSTM)               (None, 100, 75)           40800     \n",
            "                                                                 \n",
            " lstm_3 (LSTM)               (None, 50)                25200     \n",
            "                                                                 \n",
            " dense (Dense)               (None, 1)                 51        \n",
            "                                                                 \n",
            "=================================================================\n",
            "Total params: 103,091\n",
            "Trainable params: 103,091\n",
            "Non-trainable params: 0\n",
            "_________________________________________________________________\n"
          ]
        }
      ],
      "source": [
        "model.summary()"
      ]
    },
    {
      "cell_type": "code",
      "execution_count": 23,
      "metadata": {
        "id": "xXztbBry5Xsk"
      },
      "outputs": [],
      "source": [
        "model.compile(loss = 'mse', optimizer = 'adam')"
      ]
    },
    {
      "cell_type": "code",
      "execution_count": 24,
      "metadata": {
        "colab": {
          "base_uri": "https://localhost:8080/"
        },
        "id": "s7SIYmG35huW",
        "outputId": "57cda1e6-1ecc-4c40-b1ff-3bc910d1b528"
      },
      "outputs": [
        {
          "output_type": "stream",
          "name": "stdout",
          "text": [
            "Epoch 1/50\n",
            "203/203 [==============================] - 39s 164ms/step - loss: 1.2083e-04 - val_loss: 0.0055\n",
            "Epoch 2/50\n",
            "203/203 [==============================] - 32s 157ms/step - loss: 2.2803e-05 - val_loss: 0.0050\n",
            "Epoch 3/50\n",
            "203/203 [==============================] - 32s 157ms/step - loss: 1.8863e-05 - val_loss: 0.0039\n",
            "Epoch 4/50\n",
            "203/203 [==============================] - 31s 155ms/step - loss: 1.8068e-05 - val_loss: 0.0022\n",
            "Epoch 5/50\n",
            "203/203 [==============================] - 32s 157ms/step - loss: 1.5552e-05 - val_loss: 0.0014\n",
            "Epoch 6/50\n",
            "203/203 [==============================] - 31s 154ms/step - loss: 1.7634e-05 - val_loss: 0.0019\n",
            "Epoch 7/50\n",
            "203/203 [==============================] - 31s 155ms/step - loss: 1.5541e-05 - val_loss: 0.0031\n",
            "Epoch 8/50\n",
            "203/203 [==============================] - 31s 155ms/step - loss: 1.0458e-05 - val_loss: 0.0032\n",
            "Epoch 9/50\n",
            "203/203 [==============================] - 32s 155ms/step - loss: 1.0222e-05 - val_loss: 0.0026\n",
            "Epoch 10/50\n",
            "203/203 [==============================] - 31s 153ms/step - loss: 1.0274e-05 - val_loss: 0.0012\n",
            "Epoch 11/50\n",
            "203/203 [==============================] - 32s 156ms/step - loss: 8.8389e-06 - val_loss: 0.0018\n",
            "Epoch 12/50\n",
            "203/203 [==============================] - 32s 156ms/step - loss: 7.8965e-06 - val_loss: 0.0016\n",
            "Epoch 13/50\n",
            "203/203 [==============================] - 31s 155ms/step - loss: 1.0796e-05 - val_loss: 0.0037\n",
            "Epoch 14/50\n",
            "203/203 [==============================] - 31s 154ms/step - loss: 1.0020e-05 - val_loss: 0.0032\n",
            "Epoch 15/50\n",
            "203/203 [==============================] - 31s 153ms/step - loss: 6.5858e-06 - val_loss: 8.9833e-04\n",
            "Epoch 16/50\n",
            "203/203 [==============================] - 32s 157ms/step - loss: 7.4047e-06 - val_loss: 0.0010\n",
            "Epoch 17/50\n",
            "203/203 [==============================] - 32s 156ms/step - loss: 6.3080e-06 - val_loss: 7.7024e-04\n",
            "Epoch 18/50\n",
            "203/203 [==============================] - 31s 153ms/step - loss: 7.9661e-06 - val_loss: 4.1241e-04\n",
            "Epoch 19/50\n",
            "203/203 [==============================] - 31s 155ms/step - loss: 5.9903e-06 - val_loss: 0.0016\n",
            "Epoch 20/50\n",
            "203/203 [==============================] - 31s 154ms/step - loss: 7.1384e-06 - val_loss: 0.0021\n",
            "Epoch 21/50\n",
            "203/203 [==============================] - 31s 154ms/step - loss: 5.9876e-06 - val_loss: 0.0011\n",
            "Epoch 22/50\n",
            "203/203 [==============================] - 31s 154ms/step - loss: 6.1817e-06 - val_loss: 0.0023\n",
            "Epoch 23/50\n",
            "203/203 [==============================] - 31s 155ms/step - loss: 5.2127e-06 - val_loss: 4.4685e-04\n",
            "Epoch 24/50\n",
            "203/203 [==============================] - 32s 156ms/step - loss: 4.4903e-06 - val_loss: 3.8097e-04\n",
            "Epoch 25/50\n",
            "203/203 [==============================] - 32s 156ms/step - loss: 5.4877e-06 - val_loss: 5.3511e-04\n",
            "Epoch 26/50\n",
            "203/203 [==============================] - 32s 158ms/step - loss: 4.1785e-06 - val_loss: 5.6754e-04\n",
            "Epoch 27/50\n",
            "203/203 [==============================] - 32s 157ms/step - loss: 5.3956e-06 - val_loss: 3.2527e-04\n",
            "Epoch 28/50\n",
            "203/203 [==============================] - 32s 159ms/step - loss: 3.4894e-06 - val_loss: 3.6900e-04\n",
            "Epoch 29/50\n",
            "203/203 [==============================] - 32s 157ms/step - loss: 3.8917e-06 - val_loss: 0.0010\n",
            "Epoch 30/50\n",
            "203/203 [==============================] - 32s 157ms/step - loss: 3.7907e-06 - val_loss: 8.6267e-04\n",
            "Epoch 31/50\n",
            "203/203 [==============================] - 32s 156ms/step - loss: 4.5292e-06 - val_loss: 9.6799e-04\n",
            "Epoch 32/50\n",
            "203/203 [==============================] - 32s 158ms/step - loss: 2.8169e-06 - val_loss: 3.2176e-04\n",
            "Epoch 33/50\n",
            "203/203 [==============================] - 32s 159ms/step - loss: 4.2916e-06 - val_loss: 3.9680e-04\n",
            "Epoch 34/50\n",
            "203/203 [==============================] - 32s 159ms/step - loss: 3.0875e-06 - val_loss: 7.6142e-04\n",
            "Epoch 35/50\n",
            "203/203 [==============================] - 33s 160ms/step - loss: 3.0122e-06 - val_loss: 8.2998e-04\n",
            "Epoch 36/50\n",
            "203/203 [==============================] - 33s 162ms/step - loss: 2.8295e-06 - val_loss: 9.2355e-04\n",
            "Epoch 37/50\n",
            "203/203 [==============================] - 32s 160ms/step - loss: 3.6352e-06 - val_loss: 8.4014e-04\n",
            "Epoch 38/50\n",
            "203/203 [==============================] - 32s 159ms/step - loss: 3.2109e-06 - val_loss: 4.4077e-04\n",
            "Epoch 39/50\n",
            "203/203 [==============================] - 32s 157ms/step - loss: 2.9644e-06 - val_loss: 6.4513e-04\n",
            "Epoch 40/50\n",
            "203/203 [==============================] - 32s 156ms/step - loss: 2.5014e-06 - val_loss: 8.5516e-04\n",
            "Epoch 41/50\n",
            "203/203 [==============================] - 32s 157ms/step - loss: 2.5614e-06 - val_loss: 3.3065e-04\n",
            "Epoch 42/50\n",
            "203/203 [==============================] - 32s 158ms/step - loss: 2.8483e-06 - val_loss: 6.2868e-04\n",
            "Epoch 43/50\n",
            "203/203 [==============================] - 32s 158ms/step - loss: 3.2598e-06 - val_loss: 5.0097e-04\n",
            "Epoch 44/50\n",
            "203/203 [==============================] - 32s 159ms/step - loss: 2.4605e-06 - val_loss: 3.2669e-04\n",
            "Epoch 45/50\n",
            "203/203 [==============================] - 32s 157ms/step - loss: 2.5226e-06 - val_loss: 0.0022\n",
            "Epoch 46/50\n",
            "203/203 [==============================] - 32s 160ms/step - loss: 3.3723e-06 - val_loss: 8.5630e-04\n",
            "Epoch 47/50\n",
            "203/203 [==============================] - 32s 159ms/step - loss: 3.8225e-06 - val_loss: 7.0914e-04\n",
            "Epoch 48/50\n",
            "203/203 [==============================] - 32s 157ms/step - loss: 2.2812e-06 - val_loss: 3.2051e-04\n",
            "Epoch 49/50\n",
            "203/203 [==============================] - 32s 159ms/step - loss: 3.3235e-06 - val_loss: 3.6690e-04\n",
            "Epoch 50/50\n",
            "203/203 [==============================] - 32s 158ms/step - loss: 2.8216e-06 - val_loss: 0.0011\n"
          ]
        },
        {
          "output_type": "execute_result",
          "data": {
            "text/plain": [
              "<keras.callbacks.History at 0x7fd4fce60f50>"
            ]
          },
          "metadata": {},
          "execution_count": 24
        }
      ],
      "source": [
        "model.fit(X_train, y_train, validation_data = (X_test,y_test), epochs = 50, batch_size=16, verbose = 1)"
      ]
    },
    {
      "cell_type": "code",
      "execution_count": 25,
      "metadata": {
        "id": "msOMp1SrivE9"
      },
      "outputs": [],
      "source": [
        "model.save('LSTM.h5')"
      ]
    },
    {
      "cell_type": "code",
      "execution_count": 26,
      "metadata": {
        "id": "2ulEeTQZ0NoD"
      },
      "outputs": [],
      "source": [
        "x_input=test_data[1699:].reshape(1,-1)\n",
        "x_input.shape\n",
        "temp_input=list(x_input)\n",
        "temp_input=temp_input[0].tolist()"
      ]
    },
    {
      "cell_type": "code",
      "execution_count": 27,
      "metadata": {
        "colab": {
          "base_uri": "https://localhost:8080/"
        },
        "id": "IBpY8w-A88u4",
        "outputId": "42043d60-d68d-4c15-efc3-d76e1367d931"
      },
      "outputs": [
        {
          "output_type": "execute_result",
          "data": {
            "text/plain": [
              "[0.9449321636258889,\n",
              " 0.9458673710908203,\n",
              " 0.9459774187980198,\n",
              " 0.9618761327455474,\n",
              " 0.9643516945380198,\n",
              " 0.9459774187980198,\n",
              " 0.9508185771950419,\n",
              " 0.9328293529032528,\n",
              " 0.913189726576723,\n",
              " 0.9037275106983628,\n",
              " 0.8921748614937322,\n",
              " 0.8878287967508353,\n",
              " 0.8777064541665465,\n",
              " 0.8772113550111361,\n",
              " 0.8746257455114642,\n",
              " 0.9357450285065315,\n",
              " 0.9602257307108069,\n",
              " 0.9592905232458755,\n",
              " 0.9660570764160793,\n",
              " 0.9498832872108339,\n",
              " 0.9470776593147546,\n",
              " 0.9430617486960261,\n",
              " 0.9605008114698097,\n",
              " 0.9684776583652328,\n",
              " 0.9455922903318175,\n",
              " 0.9264478401786895,\n",
              " 0.9277681816111084,\n",
              " 0.9492781403482243,\n",
              " 0.9479578869363672,\n",
              " 0.9277681816111084,\n",
              " 0.919076140145876,\n",
              " 0.9026823325442234,\n",
              " 0.879301870856683,\n",
              " 0.8939902910789911,\n",
              " 0.9055980081475022,\n",
              " 0.9070832946111627,\n",
              " 0.8965208382160675,\n",
              " 0.9150051616632671,\n",
              " 0.913189726576723,\n",
              " 0.8963558051642642,\n",
              " 0.8750658593222705,\n",
              " 0.8648334635294971,\n",
              " 0.8951455169403298,\n",
              " 0.8707748624432541,\n",
              " 0.8499249478927902,\n",
              " 0.8273146606183777,\n",
              " 0.8519054105298525,\n",
              " 0.8766611934931305,\n",
              " 0.8823275116478845,\n",
              " 0.900811835095084,\n",
              " 0.908513683750781,\n",
              " 0.9274381155075015,\n",
              " 0.9350849018006029,\n",
              " 0.9563198622979926,\n",
              " 0.9598956646071999,\n",
              " 0.9647368230042221,\n",
              " 0.9832211464514214,\n",
              " 0.9766746006750548,\n",
              " 0.9592905232458755,\n",
              " 0.957640121211135,\n",
              " 0.9803604506914616,\n",
              " 0.9617660850383479,\n",
              " 0.9439969561609576,\n",
              " 0.9457023380390169,\n",
              " 0.9344246870741129,\n",
              " 0.9105491317324471,\n",
              " 0.9210566082842233,\n",
              " 0.9361300744534572,\n",
              " 0.9080185020760941,\n",
              " 0.9068082963714365,\n",
              " 0.9196262191446052,\n",
              " 0.9186910116796737,\n",
              " 0.9142349817488539,\n",
              " 0.8887640042157667,\n",
              " 0.8947604709934043,\n",
              " 0.8613126465648938,\n",
              " 0.8600473729963556,\n",
              " 0.8989414146639361,\n",
              " 0.8659886893908358,\n",
              " 0.8676941592894569,\n",
              " 0.8760560521318059,\n",
              " 0.9120345007153843,\n",
              " 0.8611476135130903,\n",
              " 0.8639532414091697,\n",
              " 0.8352365276704821,\n",
              " 0.8487146596688558,\n",
              " 0.8046493935006463,\n",
              " 0.7829743191924504,\n",
              " 0.8080051829147314,\n",
              " 0.799368121292818,\n",
              " 0.8197229421891568,\n",
              " 0.7734021326248821,\n",
              " 0.7543126678163582,\n",
              " 0.7556329212282153,\n",
              " 0.7860000425029287,\n",
              " 0.7708715084698142,\n",
              " 0.7717517305901416,\n",
              " 0.7896858925193354,\n",
              " 0.8219234232226263,\n",
              " 0.8175223786364106]"
            ]
          },
          "metadata": {},
          "execution_count": 27
        }
      ],
      "source": [
        "temp_input"
      ]
    },
    {
      "cell_type": "code",
      "execution_count": 28,
      "metadata": {
        "colab": {
          "base_uri": "https://localhost:8080/"
        },
        "id": "FPq3BYqq8-ng",
        "outputId": "a308f19f-2ed7-4d0b-df54-19da31e7356e"
      },
      "outputs": [
        {
          "output_type": "stream",
          "name": "stdout",
          "text": [
            "[[0.7544903755187988], [0.6945810914039612], [0.6438997387886047], [0.598948061466217], [0.5588948130607605], [0.5229403972625732], [0.4904853403568268], [0.4611862301826477], [0.43487828969955444], [0.4114660918712616], [0.39084210991859436], [0.37284770607948303], [0.3572674095630646], [0.34384414553642273], [0.3323017358779907], [0.3223658800125122], [0.3137807250022888], [0.3063184320926666], [0.2997846305370331], [0.29401805996894836]]\n"
          ]
        }
      ],
      "source": [
        "lst_output=[]\n",
        "n_steps=100\n",
        "i=0\n",
        "while(i<20):\n",
        "    \n",
        "    if(len(temp_input)>100):\n",
        "        #print(temp_input)\n",
        "        x_input=np.array(temp_input[1:])\n",
        "        #print(\"{} day input {}\".format(i,x_input))\n",
        "        x_input=x_input.reshape(1,-1)\n",
        "        x_input = x_input.reshape((1, n_steps, 1))\n",
        "        #print(x_input)\n",
        "        yhat = model.predict(x_input, verbose=0)\n",
        "        #print(\"{} day output {}\".format(i,yhat))\n",
        "        temp_input.extend(yhat[0].tolist())\n",
        "        temp_input=temp_input[1:]\n",
        "        #print(temp_input)\n",
        "        lst_output.extend(yhat.tolist())\n",
        "        i=i+1\n",
        "    else:\n",
        "        x_input = x_input.reshape((1, n_steps,1))\n",
        "        yhat = model.predict(x_input, verbose=0)\n",
        "        #print(yhat[0])\n",
        "        temp_input.extend(yhat[0].tolist())\n",
        "        #print(len(temp_input))\n",
        "        lst_output.extend(yhat.tolist())\n",
        "        i=i+1\n",
        "    \n",
        "\n",
        "print(lst_output)"
      ]
    },
    {
      "cell_type": "code",
      "execution_count": null,
      "metadata": {
        "colab": {
          "base_uri": "https://localhost:8080/"
        },
        "id": "14EBIZfgylQa",
        "outputId": "acb94f75-d2a1-4dce-c74a-f26606b43309"
      },
      "outputs": [
        {
          "data": {
            "text/plain": [
              "5139"
            ]
          },
          "execution_count": 41,
          "metadata": {},
          "output_type": "execute_result"
        }
      ],
      "source": [
        "len(df)"
      ]
    },
    {
      "cell_type": "code",
      "execution_count": 29,
      "metadata": {
        "id": "pqZCQBoOzIbS"
      },
      "outputs": [],
      "source": [
        "out = scaler.inverse_transform(lst_output)"
      ]
    },
    {
      "cell_type": "code",
      "execution_count": 53,
      "metadata": {
        "id": "fbMDnU1vzPH0"
      },
      "outputs": [],
      "source": [
        "out = out[0:19]"
      ]
    },
    {
      "cell_type": "code",
      "source": [
        "len(out)"
      ],
      "metadata": {
        "colab": {
          "base_uri": "https://localhost:8080/"
        },
        "id": "H49XfLdHfH0A",
        "outputId": "05803bc6-0474-4a24-95d0-e1d9fcd5d3f4"
      },
      "execution_count": 54,
      "outputs": [
        {
          "output_type": "execute_result",
          "data": {
            "text/plain": [
              "19"
            ]
          },
          "metadata": {},
          "execution_count": 54
        }
      ]
    },
    {
      "cell_type": "code",
      "execution_count": 55,
      "metadata": {
        "id": "TP67zuHuzVkL"
      },
      "outputs": [],
      "source": [
        "data = pd.read_csv('last 20 days.csv')\n",
        "data = data.dropna()"
      ]
    },
    {
      "cell_type": "code",
      "execution_count": 56,
      "metadata": {
        "id": "MsAZ9wQf9FHe"
      },
      "outputs": [],
      "source": [
        "value = data['Close']"
      ]
    },
    {
      "cell_type": "code",
      "execution_count": 57,
      "metadata": {
        "id": "5FzpqWZ79J2d"
      },
      "outputs": [],
      "source": [
        "result = np.array(value)"
      ]
    },
    {
      "cell_type": "code",
      "execution_count": 58,
      "metadata": {
        "colab": {
          "base_uri": "https://localhost:8080/"
        },
        "id": "WThDR3jAyD_-",
        "outputId": "7fe39dc4-fc62-4afd-e85b-5d955f80464c"
      },
      "outputs": [
        {
          "output_type": "execute_result",
          "data": {
            "text/plain": [
              "array([148.710007, 151.210007, 145.380005, 146.139999, 148.710007,\n",
              "       147.960007, 142.639999, 137.130005, 131.880005, 132.759995,\n",
              "       135.429993, 130.059998, 131.559998, 135.869995, 135.350006,\n",
              "       138.270004, 141.660004, 141.660004, 137.440002])"
            ]
          },
          "metadata": {},
          "execution_count": 58
        }
      ],
      "source": [
        "result"
      ]
    },
    {
      "cell_type": "code",
      "execution_count": 61,
      "metadata": {
        "colab": {
          "base_uri": "https://localhost:8080/"
        },
        "id": "MN0vu70R9M2B",
        "outputId": "402a9a72-3cb6-4cc4-c68a-ec6088b5cf39"
      },
      "outputs": [
        {
          "output_type": "execute_result",
          "data": {
            "text/plain": [
              "3713.1501127982683"
            ]
          },
          "metadata": {},
          "execution_count": 61
        }
      ],
      "source": [
        "from sklearn.metrics import mean_squared_error\n",
        "mean_squared_error(result,out)"
      ]
    },
    {
      "cell_type": "code",
      "execution_count": 50,
      "metadata": {
        "id": "U8pYXQ679SZq"
      },
      "outputs": [],
      "source": [
        ""
      ]
    },
    {
      "cell_type": "code",
      "execution_count": 50,
      "metadata": {
        "id": "LQyOXBsH9WH6"
      },
      "outputs": [],
      "source": [
        ""
      ]
    },
    {
      "cell_type": "code",
      "execution_count": 31,
      "metadata": {
        "id": "l6fx_K1V9Xfo"
      },
      "outputs": [],
      "source": [
        ""
      ]
    }
  ],
  "metadata": {
    "colab": {
      "collapsed_sections": [],
      "name": "AAPL Stock.ipynb",
      "provenance": [],
      "authorship_tag": "ABX9TyOTEBKWYCN2l/OEjSzOIXYZ",
      "include_colab_link": true
    },
    "kernelspec": {
      "display_name": "Python 3",
      "name": "python3"
    },
    "language_info": {
      "name": "python"
    }
  },
  "nbformat": 4,
  "nbformat_minor": 0
}