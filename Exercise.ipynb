{
  "nbformat": 4,
  "nbformat_minor": 0,
  "metadata": {
    "colab": {
      "name": "Exercise.ipynb",
      "provenance": [],
      "authorship_tag": "ABX9TyP7lPmn3pfpyL9sxApKGl0z",
      "include_colab_link": true
    },
    "kernelspec": {
      "name": "python3",
      "display_name": "Python 3"
    },
    "language_info": {
      "name": "python"
    }
  },
  "cells": [
    {
      "cell_type": "markdown",
      "metadata": {
        "id": "view-in-github",
        "colab_type": "text"
      },
      "source": [
        "<a href=\"https://colab.research.google.com/github/YashVarshney24/COG_Practice/blob/main/Exercise.ipynb\" target=\"_parent\"><img src=\"https://colab.research.google.com/assets/colab-badge.svg\" alt=\"Open In Colab\"/></a>"
      ]
    },
    {
      "cell_type": "code",
      "execution_count": 1,
      "metadata": {
        "colab": {
          "base_uri": "https://localhost:8080/"
        },
        "id": "eD2ElieHnEPP",
        "outputId": "3c2cd1c3-d3ea-41a2-92e4-a96524e3e6a9"
      },
      "outputs": [
        {
          "output_type": "stream",
          "name": "stdout",
          "text": [
            "Enter a number4\n",
            "4\n"
          ]
        }
      ],
      "source": [
        "import math as mt\n",
        "n = int(input(\"Enter a number\"))\n",
        "print(n)"
      ]
    },
    {
      "cell_type": "code",
      "source": [
        "def Table(n):\n",
        "\n",
        "\tif (n <= 0):\n",
        "\t\treturn\n",
        "\n",
        "\tarr = list()\n",
        "\tarr.append(\"0\")\n",
        "\tarr.append(\"1\")\n",
        "\n",
        "\ti = 2\n",
        "\tj = 0\n",
        "\twhile(True):\n",
        "\n",
        "\t\tif i >= 1 << n:\n",
        "\t\t\tbreak\n",
        "      \t\n",
        "\t\tfor j in range(i - 1, -1, -1):\n",
        "\t\t\tarr.append(arr[j])\n",
        "\t\n",
        "\t\tfor j in range(i):\n",
        "\t\t\tarr[j] = \"0\" + arr[j]\n",
        "\n",
        "\t\tfor j in range(i, 2 * i):\n",
        "\t\t\tarr[j] = \"1\" + arr[j]\n",
        "\t\ti = i << 1\n",
        "\n",
        "\t# print contents of arr[]\n",
        "\tfor i in range(len(arr)):\n",
        "\t\tprint(arr[i])\n"
      ],
      "metadata": {
        "id": "nmPvUihInYGU"
      },
      "execution_count": 2,
      "outputs": []
    },
    {
      "cell_type": "code",
      "source": [
        "Table(n)"
      ],
      "metadata": {
        "colab": {
          "base_uri": "https://localhost:8080/"
        },
        "id": "mBhr6fstoDsX",
        "outputId": "7b655054-7b6f-45b0-ade9-f6ca3f38a4c0"
      },
      "execution_count": 3,
      "outputs": [
        {
          "output_type": "stream",
          "name": "stdout",
          "text": [
            "0000\n",
            "0001\n",
            "0011\n",
            "0010\n",
            "0110\n",
            "0111\n",
            "0101\n",
            "0100\n",
            "1100\n",
            "1101\n",
            "1111\n",
            "1110\n",
            "1010\n",
            "1011\n",
            "1001\n",
            "1000\n"
          ]
        }
      ]
    }
  ]
}