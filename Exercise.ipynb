{
  "nbformat": 4,
  "nbformat_minor": 0,
  "metadata": {
    "colab": {
      "name": "Exercise.ipynb",
      "provenance": [],
      "collapsed_sections": [],
      "authorship_tag": "ABX9TyPi9n5n2RR34zwgwF4i83G9",
      "include_colab_link": true
    },
    "kernelspec": {
      "name": "python3",
      "display_name": "Python 3"
    },
    "language_info": {
      "name": "python"
    }
  },
  "cells": [
    {
      "cell_type": "markdown",
      "metadata": {
        "id": "view-in-github",
        "colab_type": "text"
      },
      "source": [
        "<a href=\"https://colab.research.google.com/github/YashVarshney24/COG_Practice/blob/main/Exercise.ipynb\" target=\"_parent\"><img src=\"https://colab.research.google.com/assets/colab-badge.svg\" alt=\"Open In Colab\"/></a>"
      ]
    },
    {
      "cell_type": "code",
      "execution_count": 6,
      "metadata": {
        "colab": {
          "base_uri": "https://localhost:8080/"
        },
        "id": "eD2ElieHnEPP",
        "outputId": "96997bac-7eaa-4a67-bbdc-1fdaab6d2706"
      },
      "outputs": [
        {
          "output_type": "stream",
          "name": "stdout",
          "text": [
            "Writing table.py\n"
          ]
        }
      ],
      "source": [
        "%%writefile -a table.py\n",
        "\n",
        "import math as mt\n",
        "n = int(input(\"Enter a number\"))\n",
        "def Table(n):\n",
        "\n",
        "\tif (n <= 0):\n",
        "\t\treturn\n",
        "\n",
        "\tarr = list()\n",
        "\tarr.append(\"0\")\n",
        "\tarr.append(\"1\")\n",
        "\n",
        "\ti = 2\n",
        "\tj = 0\n",
        "\twhile(True):\n",
        "\n",
        "\t\tif i >= 1 << n:\n",
        "\t\t\tbreak\n",
        "      \t\n",
        "\t\tfor j in range(i - 1, -1, -1):\n",
        "\t\t\tarr.append(arr[j])\n",
        "\t\n",
        "\t\tfor j in range(i):\n",
        "\t\t\tarr[j] = \"0\" + arr[j]\n",
        "\n",
        "\t\tfor j in range(i, 2 * i):\n",
        "\t\t\tarr[j] = \"1\" + arr[j]\n",
        "\t\ti = i << 1\n",
        "\n",
        "\t# print contents of arr[]\n",
        "\tfor i in range(len(arr)):\n",
        "\t\tprint(arr[i])\n"
      ]
    },
    {
      "cell_type": "code",
      "source": [
        ""
      ],
      "metadata": {
        "id": "bXY1p4-kuma5"
      },
      "execution_count": null,
      "outputs": []
    }
  ]
}